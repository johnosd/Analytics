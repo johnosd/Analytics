{
  "nbformat": 4,
  "nbformat_minor": 0,
  "metadata": {
    "colab": {
      "name": "aula10-parte1-feature-engineering.ipynb",
      "provenance": [],
      "collapsed_sections": []
    },
    "kernelspec": {
      "display_name": "Python 3",
      "language": "python",
      "name": "python3"
    },
    "language_info": {
      "codemirror_mode": {
        "name": "ipython",
        "version": 3
      },
      "file_extension": ".py",
      "mimetype": "text/x-python",
      "name": "python",
      "nbconvert_exporter": "python",
      "pygments_lexer": "ipython3",
      "version": "3.7.8"
    }
  },
  "cells": [
    {
      "cell_type": "markdown",
      "metadata": {
        "id": "LV8Gmhls1L_c"
      },
      "source": [
        "# Variáveis Categóricas\n",
        "\n",
        "Vamos usar o pacote `feature-engine`. Esse pacote é citado na lista de [related projects](https://scikit-learn.org/dev/related_projects.html) do `scikit-learn`.\n",
        "\n",
        "A lib possui muitas técnicas de feature engineering, facilmente aplicáveis dentro de um pipeline.\n",
        "\n",
        "Caso o pacote ainda não esteja instalado, por favor instale-o descomentando a linha abaixo e executando o código."
      ]
    },
    {
      "cell_type": "code",
      "metadata": {
        "id": "FFDzakrC1fq7"
      },
      "source": [
        "!pip install feature_engine==1.0.2"
      ],
      "execution_count": null,
      "outputs": []
    },
    {
      "cell_type": "markdown",
      "metadata": {
        "id": "sgMZ-xkFipgQ"
      },
      "source": [
        "## One-Hot Encoding (Dummy Variables)\n",
        "\n",
        "Cria uma nova coluna booleana para cada valor da variável categórica. A variável booleana será 1 se naquela linha havia uma categoria referenciada pela coluna e 0 caso contrário.\n",
        "\n",
        "Vantagens:\n",
        "1. Não faz suposições a respeito de como as categorias estão distribuídas\n",
        "2. Retém toda as informações da variável categórica\n",
        "\n",
        "Desvantagens:\n",
        "1. Aumenta o número de colunas\n",
        "2. Não adiciona informação nova."
      ]
    },
    {
      "cell_type": "code",
      "metadata": {
        "id": "RhyfEEy8ipgQ"
      },
      "source": [
        "import pandas as pd\n",
        "\n",
        "df = pd.DataFrame({\n",
        "    'id': [123, 232, 312, 431, 521],\n",
        "    'cor': ['verde', 'vermelho', 'vermelho', 'azul', 'verde'],\n",
        "})"
      ],
      "execution_count": null,
      "outputs": []
    },
    {
      "cell_type": "code",
      "metadata": {
        "colab": {
          "base_uri": "https://localhost:8080/",
          "height": 204
        },
        "id": "TEchL8J22NHr",
        "outputId": "1cc41bf7-4bba-45b1-807a-1a24d6e1cf94"
      },
      "source": [
        "df"
      ],
      "execution_count": null,
      "outputs": [
        {
          "output_type": "execute_result",
          "data": {
            "text/html": [
              "<div>\n",
              "<style scoped>\n",
              "    .dataframe tbody tr th:only-of-type {\n",
              "        vertical-align: middle;\n",
              "    }\n",
              "\n",
              "    .dataframe tbody tr th {\n",
              "        vertical-align: top;\n",
              "    }\n",
              "\n",
              "    .dataframe thead th {\n",
              "        text-align: right;\n",
              "    }\n",
              "</style>\n",
              "<table border=\"1\" class=\"dataframe\">\n",
              "  <thead>\n",
              "    <tr style=\"text-align: right;\">\n",
              "      <th></th>\n",
              "      <th>id</th>\n",
              "      <th>cor</th>\n",
              "    </tr>\n",
              "  </thead>\n",
              "  <tbody>\n",
              "    <tr>\n",
              "      <th>0</th>\n",
              "      <td>123</td>\n",
              "      <td>verde</td>\n",
              "    </tr>\n",
              "    <tr>\n",
              "      <th>1</th>\n",
              "      <td>232</td>\n",
              "      <td>vermelho</td>\n",
              "    </tr>\n",
              "    <tr>\n",
              "      <th>2</th>\n",
              "      <td>312</td>\n",
              "      <td>vermelho</td>\n",
              "    </tr>\n",
              "    <tr>\n",
              "      <th>3</th>\n",
              "      <td>431</td>\n",
              "      <td>azul</td>\n",
              "    </tr>\n",
              "    <tr>\n",
              "      <th>4</th>\n",
              "      <td>521</td>\n",
              "      <td>verde</td>\n",
              "    </tr>\n",
              "  </tbody>\n",
              "</table>\n",
              "</div>"
            ],
            "text/plain": [
              "    id       cor\n",
              "0  123     verde\n",
              "1  232  vermelho\n",
              "2  312  vermelho\n",
              "3  431      azul\n",
              "4  521     verde"
            ]
          },
          "metadata": {
            "tags": []
          },
          "execution_count": 4
        }
      ]
    },
    {
      "cell_type": "code",
      "metadata": {
        "id": "tse-rGTSipgT",
        "colab": {
          "base_uri": "https://localhost:8080/",
          "height": 204
        },
        "outputId": "c233c821-2772-4962-94a7-408adb27b306"
      },
      "source": [
        "from feature_engine.encoding import OneHotEncoder\n",
        "ohe = OneHotEncoder(variables=['cor'])\n",
        "ohe.fit(df)\n",
        "ohe.transform(df)"
      ],
      "execution_count": null,
      "outputs": [
        {
          "output_type": "execute_result",
          "data": {
            "text/html": [
              "<div>\n",
              "<style scoped>\n",
              "    .dataframe tbody tr th:only-of-type {\n",
              "        vertical-align: middle;\n",
              "    }\n",
              "\n",
              "    .dataframe tbody tr th {\n",
              "        vertical-align: top;\n",
              "    }\n",
              "\n",
              "    .dataframe thead th {\n",
              "        text-align: right;\n",
              "    }\n",
              "</style>\n",
              "<table border=\"1\" class=\"dataframe\">\n",
              "  <thead>\n",
              "    <tr style=\"text-align: right;\">\n",
              "      <th></th>\n",
              "      <th>id</th>\n",
              "      <th>cor_verde</th>\n",
              "      <th>cor_vermelho</th>\n",
              "      <th>cor_azul</th>\n",
              "    </tr>\n",
              "  </thead>\n",
              "  <tbody>\n",
              "    <tr>\n",
              "      <th>0</th>\n",
              "      <td>123</td>\n",
              "      <td>1</td>\n",
              "      <td>0</td>\n",
              "      <td>0</td>\n",
              "    </tr>\n",
              "    <tr>\n",
              "      <th>1</th>\n",
              "      <td>232</td>\n",
              "      <td>0</td>\n",
              "      <td>1</td>\n",
              "      <td>0</td>\n",
              "    </tr>\n",
              "    <tr>\n",
              "      <th>2</th>\n",
              "      <td>312</td>\n",
              "      <td>0</td>\n",
              "      <td>1</td>\n",
              "      <td>0</td>\n",
              "    </tr>\n",
              "    <tr>\n",
              "      <th>3</th>\n",
              "      <td>431</td>\n",
              "      <td>0</td>\n",
              "      <td>0</td>\n",
              "      <td>1</td>\n",
              "    </tr>\n",
              "    <tr>\n",
              "      <th>4</th>\n",
              "      <td>521</td>\n",
              "      <td>1</td>\n",
              "      <td>0</td>\n",
              "      <td>0</td>\n",
              "    </tr>\n",
              "  </tbody>\n",
              "</table>\n",
              "</div>"
            ],
            "text/plain": [
              "    id  cor_verde  cor_vermelho  cor_azul\n",
              "0  123          1             0         0\n",
              "1  232          0             1         0\n",
              "2  312          0             1         0\n",
              "3  431          0             0         1\n",
              "4  521          1             0         0"
            ]
          },
          "metadata": {
            "tags": []
          },
          "execution_count": 5
        }
      ]
    },
    {
      "cell_type": "markdown",
      "metadata": {
        "id": "lmGfMHWIipgV"
      },
      "source": [
        "## Label Encoding\n",
        "\n",
        "Substitui cada uma das categorias por um valor inteiro.\n",
        "\n",
        "Vantagens:\n",
        "1. Facilidade de implementação e entendimento.\n",
        " \n",
        "Desvantagens:\n",
        "2. O algoritmo pode aprender relações de ordinalidade que não existem, como pensar que `Ceará` é maior que `Recife`, caso o valor da categoria `Ceará` seja 2 e da categoria `Recife` seja 1.\n",
        "\n",
        "Esse método de `Label Encoding` geralmente é usado apenas para rápido benchmarking de algoritmos de machine learning."
      ]
    },
    {
      "cell_type": "code",
      "metadata": {
        "id": "B7kMKDYeipgV"
      },
      "source": [
        "df = pd.DataFrame({\n",
        "    'id': [123, 232, 312, 431, 521],\n",
        "    'cidade': ['São Paulo', 'Fortaleza', 'Fortaleza', 'Recife', 'Recife']\n",
        "})"
      ],
      "execution_count": null,
      "outputs": []
    },
    {
      "cell_type": "code",
      "metadata": {
        "colab": {
          "base_uri": "https://localhost:8080/",
          "height": 204
        },
        "id": "Xj6mz9x_DORK",
        "outputId": "4f9ce552-6583-4d20-f952-7eb97d64a9d2"
      },
      "source": [
        "df"
      ],
      "execution_count": null,
      "outputs": [
        {
          "output_type": "execute_result",
          "data": {
            "text/html": [
              "<div>\n",
              "<style scoped>\n",
              "    .dataframe tbody tr th:only-of-type {\n",
              "        vertical-align: middle;\n",
              "    }\n",
              "\n",
              "    .dataframe tbody tr th {\n",
              "        vertical-align: top;\n",
              "    }\n",
              "\n",
              "    .dataframe thead th {\n",
              "        text-align: right;\n",
              "    }\n",
              "</style>\n",
              "<table border=\"1\" class=\"dataframe\">\n",
              "  <thead>\n",
              "    <tr style=\"text-align: right;\">\n",
              "      <th></th>\n",
              "      <th>id</th>\n",
              "      <th>cidade</th>\n",
              "    </tr>\n",
              "  </thead>\n",
              "  <tbody>\n",
              "    <tr>\n",
              "      <th>0</th>\n",
              "      <td>123</td>\n",
              "      <td>São Paulo</td>\n",
              "    </tr>\n",
              "    <tr>\n",
              "      <th>1</th>\n",
              "      <td>232</td>\n",
              "      <td>Fortaleza</td>\n",
              "    </tr>\n",
              "    <tr>\n",
              "      <th>2</th>\n",
              "      <td>312</td>\n",
              "      <td>Fortaleza</td>\n",
              "    </tr>\n",
              "    <tr>\n",
              "      <th>3</th>\n",
              "      <td>431</td>\n",
              "      <td>Recife</td>\n",
              "    </tr>\n",
              "    <tr>\n",
              "      <th>4</th>\n",
              "      <td>521</td>\n",
              "      <td>Recife</td>\n",
              "    </tr>\n",
              "  </tbody>\n",
              "</table>\n",
              "</div>"
            ],
            "text/plain": [
              "    id     cidade\n",
              "0  123  São Paulo\n",
              "1  232  Fortaleza\n",
              "2  312  Fortaleza\n",
              "3  431     Recife\n",
              "4  521     Recife"
            ]
          },
          "metadata": {
            "tags": []
          },
          "execution_count": 7
        }
      ]
    },
    {
      "cell_type": "code",
      "metadata": {
        "id": "I5krUg_nipgX",
        "colab": {
          "base_uri": "https://localhost:8080/",
          "height": 204
        },
        "outputId": "07bfea06-7231-4f31-c0bf-8ab9634a4095"
      },
      "source": [
        "from feature_engine.encoding import OrdinalEncoder\n",
        "oce = OrdinalEncoder(encoding_method='arbitrary', variables=['cidade'])\n",
        "oce.fit(df)\n",
        "oce.transform(df)"
      ],
      "execution_count": null,
      "outputs": [
        {
          "output_type": "execute_result",
          "data": {
            "text/html": [
              "<div>\n",
              "<style scoped>\n",
              "    .dataframe tbody tr th:only-of-type {\n",
              "        vertical-align: middle;\n",
              "    }\n",
              "\n",
              "    .dataframe tbody tr th {\n",
              "        vertical-align: top;\n",
              "    }\n",
              "\n",
              "    .dataframe thead th {\n",
              "        text-align: right;\n",
              "    }\n",
              "</style>\n",
              "<table border=\"1\" class=\"dataframe\">\n",
              "  <thead>\n",
              "    <tr style=\"text-align: right;\">\n",
              "      <th></th>\n",
              "      <th>id</th>\n",
              "      <th>cidade</th>\n",
              "    </tr>\n",
              "  </thead>\n",
              "  <tbody>\n",
              "    <tr>\n",
              "      <th>0</th>\n",
              "      <td>123</td>\n",
              "      <td>0</td>\n",
              "    </tr>\n",
              "    <tr>\n",
              "      <th>1</th>\n",
              "      <td>232</td>\n",
              "      <td>1</td>\n",
              "    </tr>\n",
              "    <tr>\n",
              "      <th>2</th>\n",
              "      <td>312</td>\n",
              "      <td>1</td>\n",
              "    </tr>\n",
              "    <tr>\n",
              "      <th>3</th>\n",
              "      <td>431</td>\n",
              "      <td>2</td>\n",
              "    </tr>\n",
              "    <tr>\n",
              "      <th>4</th>\n",
              "      <td>521</td>\n",
              "      <td>2</td>\n",
              "    </tr>\n",
              "  </tbody>\n",
              "</table>\n",
              "</div>"
            ],
            "text/plain": [
              "    id  cidade\n",
              "0  123       0\n",
              "1  232       1\n",
              "2  312       1\n",
              "3  431       2\n",
              "4  521       2"
            ]
          },
          "metadata": {
            "tags": []
          },
          "execution_count": 8
        }
      ]
    },
    {
      "cell_type": "markdown",
      "metadata": {
        "id": "_2cyjcFxFGIs"
      },
      "source": [
        "## Mean Target Encoding\n",
        "\n",
        "Substitui a categoria pelo valor médio da variável target naquela categoria.\n",
        "\n",
        "Vantagens:\n",
        "1. Traz uma informação nova ao decodificar a variável. Categorias que possuem valor médio da target maior, receberam um número maior.\n",
        "2. Não aumenta o número de variáveis.\n",
        "\n",
        "Desvantagens:\n",
        "1. Pode levar ao overffitting\n",
        "2. Duas categorias com o mesmo valor médio da target, podem ser substituída pelo mesmo valor. Isso pode levar a perda de informação."
      ]
    },
    {
      "cell_type": "code",
      "metadata": {
        "id": "LhB0FA36ipgZ",
        "colab": {
          "base_uri": "https://localhost:8080/",
          "height": 359
        },
        "outputId": "1681361c-1fa8-4cbb-d125-eead20b79f52"
      },
      "source": [
        "df = pd.DataFrame({\n",
        "    'uf': ['RS', 'SP', 'SP', 'SP', 'SP', 'SP', 'MG', 'GO', 'SP', 'SP'],\n",
        "    'target': [0, 0, 1, 1, 1, 0, 0, 0, 0, 1]\n",
        "})\n",
        "\n",
        "df"
      ],
      "execution_count": null,
      "outputs": [
        {
          "output_type": "execute_result",
          "data": {
            "text/html": [
              "<div>\n",
              "<style scoped>\n",
              "    .dataframe tbody tr th:only-of-type {\n",
              "        vertical-align: middle;\n",
              "    }\n",
              "\n",
              "    .dataframe tbody tr th {\n",
              "        vertical-align: top;\n",
              "    }\n",
              "\n",
              "    .dataframe thead th {\n",
              "        text-align: right;\n",
              "    }\n",
              "</style>\n",
              "<table border=\"1\" class=\"dataframe\">\n",
              "  <thead>\n",
              "    <tr style=\"text-align: right;\">\n",
              "      <th></th>\n",
              "      <th>uf</th>\n",
              "      <th>target</th>\n",
              "    </tr>\n",
              "  </thead>\n",
              "  <tbody>\n",
              "    <tr>\n",
              "      <th>0</th>\n",
              "      <td>RS</td>\n",
              "      <td>0</td>\n",
              "    </tr>\n",
              "    <tr>\n",
              "      <th>1</th>\n",
              "      <td>SP</td>\n",
              "      <td>0</td>\n",
              "    </tr>\n",
              "    <tr>\n",
              "      <th>2</th>\n",
              "      <td>SP</td>\n",
              "      <td>1</td>\n",
              "    </tr>\n",
              "    <tr>\n",
              "      <th>3</th>\n",
              "      <td>SP</td>\n",
              "      <td>1</td>\n",
              "    </tr>\n",
              "    <tr>\n",
              "      <th>4</th>\n",
              "      <td>SP</td>\n",
              "      <td>1</td>\n",
              "    </tr>\n",
              "    <tr>\n",
              "      <th>5</th>\n",
              "      <td>SP</td>\n",
              "      <td>0</td>\n",
              "    </tr>\n",
              "    <tr>\n",
              "      <th>6</th>\n",
              "      <td>MG</td>\n",
              "      <td>0</td>\n",
              "    </tr>\n",
              "    <tr>\n",
              "      <th>7</th>\n",
              "      <td>GO</td>\n",
              "      <td>0</td>\n",
              "    </tr>\n",
              "    <tr>\n",
              "      <th>8</th>\n",
              "      <td>SP</td>\n",
              "      <td>0</td>\n",
              "    </tr>\n",
              "    <tr>\n",
              "      <th>9</th>\n",
              "      <td>SP</td>\n",
              "      <td>1</td>\n",
              "    </tr>\n",
              "  </tbody>\n",
              "</table>\n",
              "</div>"
            ],
            "text/plain": [
              "   uf  target\n",
              "0  RS       0\n",
              "1  SP       0\n",
              "2  SP       1\n",
              "3  SP       1\n",
              "4  SP       1\n",
              "5  SP       0\n",
              "6  MG       0\n",
              "7  GO       0\n",
              "8  SP       0\n",
              "9  SP       1"
            ]
          },
          "metadata": {
            "tags": []
          },
          "execution_count": 9
        }
      ]
    },
    {
      "cell_type": "code",
      "metadata": {
        "id": "r88y7qvTipgc",
        "colab": {
          "base_uri": "https://localhost:8080/",
          "height": 359
        },
        "outputId": "369d1320-83a2-48d8-85e8-a477205dac53"
      },
      "source": [
        "from feature_engine.encoding import MeanEncoder\n",
        "\n",
        "X_train = df[['uf']]\n",
        "y_train = df.target\n",
        "\n",
        "mean_encoder = MeanEncoder(variables=['uf'])\n",
        "mean_encoder.fit(X_train, y_train)\n",
        "mean_encoder.transform(X_train)"
      ],
      "execution_count": null,
      "outputs": [
        {
          "output_type": "execute_result",
          "data": {
            "text/html": [
              "<div>\n",
              "<style scoped>\n",
              "    .dataframe tbody tr th:only-of-type {\n",
              "        vertical-align: middle;\n",
              "    }\n",
              "\n",
              "    .dataframe tbody tr th {\n",
              "        vertical-align: top;\n",
              "    }\n",
              "\n",
              "    .dataframe thead th {\n",
              "        text-align: right;\n",
              "    }\n",
              "</style>\n",
              "<table border=\"1\" class=\"dataframe\">\n",
              "  <thead>\n",
              "    <tr style=\"text-align: right;\">\n",
              "      <th></th>\n",
              "      <th>uf</th>\n",
              "    </tr>\n",
              "  </thead>\n",
              "  <tbody>\n",
              "    <tr>\n",
              "      <th>0</th>\n",
              "      <td>0.000000</td>\n",
              "    </tr>\n",
              "    <tr>\n",
              "      <th>1</th>\n",
              "      <td>0.571429</td>\n",
              "    </tr>\n",
              "    <tr>\n",
              "      <th>2</th>\n",
              "      <td>0.571429</td>\n",
              "    </tr>\n",
              "    <tr>\n",
              "      <th>3</th>\n",
              "      <td>0.571429</td>\n",
              "    </tr>\n",
              "    <tr>\n",
              "      <th>4</th>\n",
              "      <td>0.571429</td>\n",
              "    </tr>\n",
              "    <tr>\n",
              "      <th>5</th>\n",
              "      <td>0.571429</td>\n",
              "    </tr>\n",
              "    <tr>\n",
              "      <th>6</th>\n",
              "      <td>0.000000</td>\n",
              "    </tr>\n",
              "    <tr>\n",
              "      <th>7</th>\n",
              "      <td>0.000000</td>\n",
              "    </tr>\n",
              "    <tr>\n",
              "      <th>8</th>\n",
              "      <td>0.571429</td>\n",
              "    </tr>\n",
              "    <tr>\n",
              "      <th>9</th>\n",
              "      <td>0.571429</td>\n",
              "    </tr>\n",
              "  </tbody>\n",
              "</table>\n",
              "</div>"
            ],
            "text/plain": [
              "         uf\n",
              "0  0.000000\n",
              "1  0.571429\n",
              "2  0.571429\n",
              "3  0.571429\n",
              "4  0.571429\n",
              "5  0.571429\n",
              "6  0.000000\n",
              "7  0.000000\n",
              "8  0.571429\n",
              "9  0.571429"
            ]
          },
          "metadata": {
            "tags": []
          },
          "execution_count": 11
        }
      ]
    },
    {
      "cell_type": "markdown",
      "metadata": {
        "id": "M5tGuO54ipge"
      },
      "source": [
        "## Count-Frequency Encoder\n",
        "\n",
        "Substitui a categoria pela frequência em que aparece.\n",
        "\n",
        "Vantagens:\n",
        "1. Inclui uma nova informação.\n",
        "2. Não aumenta o número de variáveis.\n",
        "\n",
        "Desvantagens:\n",
        "1. Duas categorias com a mesma frequência podem ser substituída pelo mesmo valor. Isso pode levar a perda de informação."
      ]
    },
    {
      "cell_type": "code",
      "metadata": {
        "id": "btroQCjkipge",
        "colab": {
          "base_uri": "https://localhost:8080/",
          "height": 359
        },
        "outputId": "454a1b59-6827-4d1b-fd87-69b356c1c649"
      },
      "source": [
        "df = pd.DataFrame({\n",
        "    'uf': ['RS', 'SP', 'RS', 'SP', 'SP', 'SP', 'MG', 'GO', 'SP', 'SP'],\n",
        "})\n",
        "\n",
        "df"
      ],
      "execution_count": null,
      "outputs": [
        {
          "output_type": "execute_result",
          "data": {
            "text/html": [
              "<div>\n",
              "<style scoped>\n",
              "    .dataframe tbody tr th:only-of-type {\n",
              "        vertical-align: middle;\n",
              "    }\n",
              "\n",
              "    .dataframe tbody tr th {\n",
              "        vertical-align: top;\n",
              "    }\n",
              "\n",
              "    .dataframe thead th {\n",
              "        text-align: right;\n",
              "    }\n",
              "</style>\n",
              "<table border=\"1\" class=\"dataframe\">\n",
              "  <thead>\n",
              "    <tr style=\"text-align: right;\">\n",
              "      <th></th>\n",
              "      <th>uf</th>\n",
              "    </tr>\n",
              "  </thead>\n",
              "  <tbody>\n",
              "    <tr>\n",
              "      <th>0</th>\n",
              "      <td>RS</td>\n",
              "    </tr>\n",
              "    <tr>\n",
              "      <th>1</th>\n",
              "      <td>SP</td>\n",
              "    </tr>\n",
              "    <tr>\n",
              "      <th>2</th>\n",
              "      <td>RS</td>\n",
              "    </tr>\n",
              "    <tr>\n",
              "      <th>3</th>\n",
              "      <td>SP</td>\n",
              "    </tr>\n",
              "    <tr>\n",
              "      <th>4</th>\n",
              "      <td>SP</td>\n",
              "    </tr>\n",
              "    <tr>\n",
              "      <th>5</th>\n",
              "      <td>SP</td>\n",
              "    </tr>\n",
              "    <tr>\n",
              "      <th>6</th>\n",
              "      <td>MG</td>\n",
              "    </tr>\n",
              "    <tr>\n",
              "      <th>7</th>\n",
              "      <td>GO</td>\n",
              "    </tr>\n",
              "    <tr>\n",
              "      <th>8</th>\n",
              "      <td>SP</td>\n",
              "    </tr>\n",
              "    <tr>\n",
              "      <th>9</th>\n",
              "      <td>SP</td>\n",
              "    </tr>\n",
              "  </tbody>\n",
              "</table>\n",
              "</div>"
            ],
            "text/plain": [
              "   uf\n",
              "0  RS\n",
              "1  SP\n",
              "2  RS\n",
              "3  SP\n",
              "4  SP\n",
              "5  SP\n",
              "6  MG\n",
              "7  GO\n",
              "8  SP\n",
              "9  SP"
            ]
          },
          "metadata": {
            "tags": []
          },
          "execution_count": 12
        }
      ]
    },
    {
      "cell_type": "code",
      "metadata": {
        "id": "JOWorKyqipgg",
        "colab": {
          "base_uri": "https://localhost:8080/",
          "height": 359
        },
        "outputId": "901b21f1-0652-463c-e247-d9b3f695da8e"
      },
      "source": [
        "from feature_engine.encoding import CountFrequencyEncoder\n",
        "\n",
        "count_frequency_encoder = CountFrequencyEncoder(variables=['uf'], \n",
        "                                                encoding_method='frequency')\n",
        "count_frequency_encoder.fit(df)\n",
        "count_frequency_encoder.transform(df)"
      ],
      "execution_count": null,
      "outputs": [
        {
          "output_type": "execute_result",
          "data": {
            "text/html": [
              "<div>\n",
              "<style scoped>\n",
              "    .dataframe tbody tr th:only-of-type {\n",
              "        vertical-align: middle;\n",
              "    }\n",
              "\n",
              "    .dataframe tbody tr th {\n",
              "        vertical-align: top;\n",
              "    }\n",
              "\n",
              "    .dataframe thead th {\n",
              "        text-align: right;\n",
              "    }\n",
              "</style>\n",
              "<table border=\"1\" class=\"dataframe\">\n",
              "  <thead>\n",
              "    <tr style=\"text-align: right;\">\n",
              "      <th></th>\n",
              "      <th>uf</th>\n",
              "    </tr>\n",
              "  </thead>\n",
              "  <tbody>\n",
              "    <tr>\n",
              "      <th>0</th>\n",
              "      <td>0.2</td>\n",
              "    </tr>\n",
              "    <tr>\n",
              "      <th>1</th>\n",
              "      <td>0.6</td>\n",
              "    </tr>\n",
              "    <tr>\n",
              "      <th>2</th>\n",
              "      <td>0.2</td>\n",
              "    </tr>\n",
              "    <tr>\n",
              "      <th>3</th>\n",
              "      <td>0.6</td>\n",
              "    </tr>\n",
              "    <tr>\n",
              "      <th>4</th>\n",
              "      <td>0.6</td>\n",
              "    </tr>\n",
              "    <tr>\n",
              "      <th>5</th>\n",
              "      <td>0.6</td>\n",
              "    </tr>\n",
              "    <tr>\n",
              "      <th>6</th>\n",
              "      <td>0.1</td>\n",
              "    </tr>\n",
              "    <tr>\n",
              "      <th>7</th>\n",
              "      <td>0.1</td>\n",
              "    </tr>\n",
              "    <tr>\n",
              "      <th>8</th>\n",
              "      <td>0.6</td>\n",
              "    </tr>\n",
              "    <tr>\n",
              "      <th>9</th>\n",
              "      <td>0.6</td>\n",
              "    </tr>\n",
              "  </tbody>\n",
              "</table>\n",
              "</div>"
            ],
            "text/plain": [
              "    uf\n",
              "0  0.2\n",
              "1  0.6\n",
              "2  0.2\n",
              "3  0.6\n",
              "4  0.6\n",
              "5  0.6\n",
              "6  0.1\n",
              "7  0.1\n",
              "8  0.6\n",
              "9  0.6"
            ]
          },
          "metadata": {
            "tags": []
          },
          "execution_count": 16
        }
      ]
    },
    {
      "cell_type": "markdown",
      "metadata": {
        "id": "k35cd6O91ZgQ"
      },
      "source": [
        "# Variáveis Numéricas"
      ]
    },
    {
      "cell_type": "markdown",
      "metadata": {
        "id": "Uc0_GRX5ipgi"
      },
      "source": [
        "# Feature Scaling\n",
        "\n",
        "Feature Scaling é uma feature engineering muito importante para vários modelos de machine learning. Ela pode afetar os parâmetros que esses modelos aprendem, variáveis com magnitudes maiores que as outras podem dominar e alguns algoritmos de otimização, como o gradiente descendente, que estão por trás de muitas implementações, convergem rapidamente e para o mínimo global quando as variáveis estão em escalas parecidas.\n",
        "\n",
        "Algoritmos de Machine Learning que precisam de Feature Scaling:\n",
        "\n",
        "1. Regressão Linear\n",
        "2. Regressão Logística\n",
        "3. Support Vector Machines\n",
        "4. KNN\n",
        "5. K-Means \n",
        "6. PCA\n",
        "7. Redes Neurais\n",
        "\n",
        "Algoritmos de Machine Learning que não precisam de Feature Scaling:\n",
        "\n",
        "1. Árvores de Decisão\n",
        "2. Random Forest\n",
        "3. Gradient Boosting\n",
        "\n",
        "No geral, algoritmos baseados em árvores não necessitam de feature scaling."
      ]
    },
    {
      "cell_type": "markdown",
      "metadata": {
        "id": "V3Evxr5LdiEn"
      },
      "source": [
        "## Standardisation\n",
        "\n",
        "Faz com que a distribuição da variável fique normal, com média igual a 0 e desvio-padrão igual a 1.\n",
        "\n",
        "$$ X^{'}= \\frac{X-mean(X)}{std(X)}$$"
      ]
    },
    {
      "cell_type": "code",
      "metadata": {
        "id": "ntiHKUdiipgi",
        "colab": {
          "base_uri": "https://localhost:8080/",
          "height": 235
        },
        "outputId": "408f36dd-16ce-4d32-ec1d-62ee45404202"
      },
      "source": [
        "df = pd.DataFrame({\n",
        "    'valores': [10, 20, 30, 40, 50, 60],\n",
        "})\n",
        "df"
      ],
      "execution_count": null,
      "outputs": [
        {
          "output_type": "execute_result",
          "data": {
            "text/html": [
              "<div>\n",
              "<style scoped>\n",
              "    .dataframe tbody tr th:only-of-type {\n",
              "        vertical-align: middle;\n",
              "    }\n",
              "\n",
              "    .dataframe tbody tr th {\n",
              "        vertical-align: top;\n",
              "    }\n",
              "\n",
              "    .dataframe thead th {\n",
              "        text-align: right;\n",
              "    }\n",
              "</style>\n",
              "<table border=\"1\" class=\"dataframe\">\n",
              "  <thead>\n",
              "    <tr style=\"text-align: right;\">\n",
              "      <th></th>\n",
              "      <th>valores</th>\n",
              "    </tr>\n",
              "  </thead>\n",
              "  <tbody>\n",
              "    <tr>\n",
              "      <th>0</th>\n",
              "      <td>10</td>\n",
              "    </tr>\n",
              "    <tr>\n",
              "      <th>1</th>\n",
              "      <td>20</td>\n",
              "    </tr>\n",
              "    <tr>\n",
              "      <th>2</th>\n",
              "      <td>30</td>\n",
              "    </tr>\n",
              "    <tr>\n",
              "      <th>3</th>\n",
              "      <td>40</td>\n",
              "    </tr>\n",
              "    <tr>\n",
              "      <th>4</th>\n",
              "      <td>50</td>\n",
              "    </tr>\n",
              "    <tr>\n",
              "      <th>5</th>\n",
              "      <td>60</td>\n",
              "    </tr>\n",
              "  </tbody>\n",
              "</table>\n",
              "</div>"
            ],
            "text/plain": [
              "   valores\n",
              "0       10\n",
              "1       20\n",
              "2       30\n",
              "3       40\n",
              "4       50\n",
              "5       60"
            ]
          },
          "metadata": {
            "tags": []
          },
          "execution_count": 17
        }
      ]
    },
    {
      "cell_type": "code",
      "metadata": {
        "id": "8du5lv7Pipgk",
        "colab": {
          "base_uri": "https://localhost:8080/",
          "height": 235
        },
        "outputId": "e609ccdd-2769-470d-90a3-99c780125346"
      },
      "source": [
        "from feature_engine.wrappers import SklearnTransformerWrapper\n",
        "from sklearn.preprocessing import StandardScaler\n",
        "\n",
        "std_scaler = SklearnTransformerWrapper(transformer = StandardScaler(),\n",
        "                                       variables = ['valores'])\n",
        "\n",
        "std_scaler.fit(df)\n",
        "std_scaler.transform(df)"
      ],
      "execution_count": null,
      "outputs": [
        {
          "output_type": "execute_result",
          "data": {
            "text/html": [
              "<div>\n",
              "<style scoped>\n",
              "    .dataframe tbody tr th:only-of-type {\n",
              "        vertical-align: middle;\n",
              "    }\n",
              "\n",
              "    .dataframe tbody tr th {\n",
              "        vertical-align: top;\n",
              "    }\n",
              "\n",
              "    .dataframe thead th {\n",
              "        text-align: right;\n",
              "    }\n",
              "</style>\n",
              "<table border=\"1\" class=\"dataframe\">\n",
              "  <thead>\n",
              "    <tr style=\"text-align: right;\">\n",
              "      <th></th>\n",
              "      <th>valores</th>\n",
              "    </tr>\n",
              "  </thead>\n",
              "  <tbody>\n",
              "    <tr>\n",
              "      <th>0</th>\n",
              "      <td>-1.46385</td>\n",
              "    </tr>\n",
              "    <tr>\n",
              "      <th>1</th>\n",
              "      <td>-0.87831</td>\n",
              "    </tr>\n",
              "    <tr>\n",
              "      <th>2</th>\n",
              "      <td>-0.29277</td>\n",
              "    </tr>\n",
              "    <tr>\n",
              "      <th>3</th>\n",
              "      <td>0.29277</td>\n",
              "    </tr>\n",
              "    <tr>\n",
              "      <th>4</th>\n",
              "      <td>0.87831</td>\n",
              "    </tr>\n",
              "    <tr>\n",
              "      <th>5</th>\n",
              "      <td>1.46385</td>\n",
              "    </tr>\n",
              "  </tbody>\n",
              "</table>\n",
              "</div>"
            ],
            "text/plain": [
              "   valores\n",
              "0 -1.46385\n",
              "1 -0.87831\n",
              "2 -0.29277\n",
              "3  0.29277\n",
              "4  0.87831\n",
              "5  1.46385"
            ]
          },
          "metadata": {
            "tags": []
          },
          "execution_count": 18
        }
      ]
    },
    {
      "cell_type": "code",
      "metadata": {
        "id": "3kW3wSzyipgl",
        "colab": {
          "base_uri": "https://localhost:8080/"
        },
        "outputId": "f9555dc2-68b9-4ac8-a497-68345b758c4c"
      },
      "source": [
        "# Calculando manualmente\n",
        "(10 - df.values.mean()) / df.values.std()"
      ],
      "execution_count": null,
      "outputs": [
        {
          "output_type": "execute_result",
          "data": {
            "text/plain": [
              "-1.4638501094227996"
            ]
          },
          "metadata": {
            "tags": []
          },
          "execution_count": 19
        }
      ]
    },
    {
      "cell_type": "markdown",
      "metadata": {
        "id": "tCVY_0sVipgn"
      },
      "source": [
        "## Min-Max Scaler\n",
        "\n",
        "Deixa as variáveis com distribuição no range [0,1]. Ou seja, o valor mínimo da variável será 0 e o valor máximo será 1.\n",
        "\n",
        "$$ X^{'}= \\frac{X-X_{min}}{X_{max}-X_{min}}$$"
      ]
    },
    {
      "cell_type": "code",
      "metadata": {
        "id": "rmHW3cdoipgo",
        "colab": {
          "base_uri": "https://localhost:8080/",
          "height": 235
        },
        "outputId": "066d3b95-912b-4a13-b703-0cd033b938db"
      },
      "source": [
        "df"
      ],
      "execution_count": null,
      "outputs": [
        {
          "output_type": "execute_result",
          "data": {
            "text/html": [
              "<div>\n",
              "<style scoped>\n",
              "    .dataframe tbody tr th:only-of-type {\n",
              "        vertical-align: middle;\n",
              "    }\n",
              "\n",
              "    .dataframe tbody tr th {\n",
              "        vertical-align: top;\n",
              "    }\n",
              "\n",
              "    .dataframe thead th {\n",
              "        text-align: right;\n",
              "    }\n",
              "</style>\n",
              "<table border=\"1\" class=\"dataframe\">\n",
              "  <thead>\n",
              "    <tr style=\"text-align: right;\">\n",
              "      <th></th>\n",
              "      <th>valores</th>\n",
              "    </tr>\n",
              "  </thead>\n",
              "  <tbody>\n",
              "    <tr>\n",
              "      <th>0</th>\n",
              "      <td>10</td>\n",
              "    </tr>\n",
              "    <tr>\n",
              "      <th>1</th>\n",
              "      <td>20</td>\n",
              "    </tr>\n",
              "    <tr>\n",
              "      <th>2</th>\n",
              "      <td>30</td>\n",
              "    </tr>\n",
              "    <tr>\n",
              "      <th>3</th>\n",
              "      <td>40</td>\n",
              "    </tr>\n",
              "    <tr>\n",
              "      <th>4</th>\n",
              "      <td>50</td>\n",
              "    </tr>\n",
              "    <tr>\n",
              "      <th>5</th>\n",
              "      <td>60</td>\n",
              "    </tr>\n",
              "  </tbody>\n",
              "</table>\n",
              "</div>"
            ],
            "text/plain": [
              "   valores\n",
              "0       10\n",
              "1       20\n",
              "2       30\n",
              "3       40\n",
              "4       50\n",
              "5       60"
            ]
          },
          "metadata": {
            "tags": []
          },
          "execution_count": 20
        }
      ]
    },
    {
      "cell_type": "code",
      "metadata": {
        "id": "CqCeAFOwipgq",
        "colab": {
          "base_uri": "https://localhost:8080/",
          "height": 235
        },
        "outputId": "2a881e37-cb67-4576-b743-dc84b637554b"
      },
      "source": [
        "from feature_engine.wrappers import SklearnTransformerWrapper\n",
        "from sklearn.preprocessing import MinMaxScaler\n",
        "\n",
        "minmax_scaler = SklearnTransformerWrapper(transformer = MinMaxScaler(),\n",
        "                                          variables = ['valores'])\n",
        "\n",
        "minmax_scaler.fit(df)\n",
        "minmax_scaler.transform(df)"
      ],
      "execution_count": null,
      "outputs": [
        {
          "output_type": "execute_result",
          "data": {
            "text/html": [
              "<div>\n",
              "<style scoped>\n",
              "    .dataframe tbody tr th:only-of-type {\n",
              "        vertical-align: middle;\n",
              "    }\n",
              "\n",
              "    .dataframe tbody tr th {\n",
              "        vertical-align: top;\n",
              "    }\n",
              "\n",
              "    .dataframe thead th {\n",
              "        text-align: right;\n",
              "    }\n",
              "</style>\n",
              "<table border=\"1\" class=\"dataframe\">\n",
              "  <thead>\n",
              "    <tr style=\"text-align: right;\">\n",
              "      <th></th>\n",
              "      <th>valores</th>\n",
              "    </tr>\n",
              "  </thead>\n",
              "  <tbody>\n",
              "    <tr>\n",
              "      <th>0</th>\n",
              "      <td>0.0</td>\n",
              "    </tr>\n",
              "    <tr>\n",
              "      <th>1</th>\n",
              "      <td>0.2</td>\n",
              "    </tr>\n",
              "    <tr>\n",
              "      <th>2</th>\n",
              "      <td>0.4</td>\n",
              "    </tr>\n",
              "    <tr>\n",
              "      <th>3</th>\n",
              "      <td>0.6</td>\n",
              "    </tr>\n",
              "    <tr>\n",
              "      <th>4</th>\n",
              "      <td>0.8</td>\n",
              "    </tr>\n",
              "    <tr>\n",
              "      <th>5</th>\n",
              "      <td>1.0</td>\n",
              "    </tr>\n",
              "  </tbody>\n",
              "</table>\n",
              "</div>"
            ],
            "text/plain": [
              "   valores\n",
              "0      0.0\n",
              "1      0.2\n",
              "2      0.4\n",
              "3      0.6\n",
              "4      0.8\n",
              "5      1.0"
            ]
          },
          "metadata": {
            "tags": []
          },
          "execution_count": 21
        }
      ]
    },
    {
      "cell_type": "markdown",
      "metadata": {
        "id": "ChN7Yg4vipgr"
      },
      "source": [
        "# Outlier Engineering\n",
        "\n",
        "Um outlier é um ponto que se diferencia muito dos pontos restantes.\n",
        "\n",
        "Formas de pré-processar outliers:\n",
        "\n",
        "1. Remoção dos outliers da base\n",
        "2. Substituição dos valores outliers\n",
        "\n",
        "Algoritmos lineares, como regressão logística e regressão linear, podem sofrer em termos de performance devido a presença de outliers.\n",
        "Algoritmos baseados em árvores são robustos a outliers. Não precisa de tratamento de outliers para esses algoritmos."
      ]
    },
    {
      "cell_type": "markdown",
      "metadata": {
        "id": "d7bqyZ--eNBb"
      },
      "source": [
        "## Remoção de Outlier de acordo com o Interquantile Range.\n",
        "\n",
        "$$IQR = 75^{th} - 25^{th}$$\n",
        "\n",
        "* Limite Superior: $$75^{th} + IQR \\times 3$$\n",
        "* Limite Inferior: $$25^{th} - IQR \\times 3$$"
      ]
    },
    {
      "cell_type": "code",
      "metadata": {
        "id": "MvDrlO6Jipgu",
        "colab": {
          "base_uri": "https://localhost:8080/",
          "height": 390
        },
        "outputId": "8a2af10a-550d-4f62-d449-3554311033b3"
      },
      "source": [
        "df = pd.DataFrame({\n",
        "    'valores': [10, 20, 30, 40, 100, 101, 102, 103, 104, 105, 500]\n",
        "})\n",
        "df"
      ],
      "execution_count": null,
      "outputs": [
        {
          "output_type": "execute_result",
          "data": {
            "text/html": [
              "<div>\n",
              "<style scoped>\n",
              "    .dataframe tbody tr th:only-of-type {\n",
              "        vertical-align: middle;\n",
              "    }\n",
              "\n",
              "    .dataframe tbody tr th {\n",
              "        vertical-align: top;\n",
              "    }\n",
              "\n",
              "    .dataframe thead th {\n",
              "        text-align: right;\n",
              "    }\n",
              "</style>\n",
              "<table border=\"1\" class=\"dataframe\">\n",
              "  <thead>\n",
              "    <tr style=\"text-align: right;\">\n",
              "      <th></th>\n",
              "      <th>valores</th>\n",
              "    </tr>\n",
              "  </thead>\n",
              "  <tbody>\n",
              "    <tr>\n",
              "      <th>0</th>\n",
              "      <td>10</td>\n",
              "    </tr>\n",
              "    <tr>\n",
              "      <th>1</th>\n",
              "      <td>20</td>\n",
              "    </tr>\n",
              "    <tr>\n",
              "      <th>2</th>\n",
              "      <td>30</td>\n",
              "    </tr>\n",
              "    <tr>\n",
              "      <th>3</th>\n",
              "      <td>40</td>\n",
              "    </tr>\n",
              "    <tr>\n",
              "      <th>4</th>\n",
              "      <td>100</td>\n",
              "    </tr>\n",
              "    <tr>\n",
              "      <th>5</th>\n",
              "      <td>101</td>\n",
              "    </tr>\n",
              "    <tr>\n",
              "      <th>6</th>\n",
              "      <td>102</td>\n",
              "    </tr>\n",
              "    <tr>\n",
              "      <th>7</th>\n",
              "      <td>103</td>\n",
              "    </tr>\n",
              "    <tr>\n",
              "      <th>8</th>\n",
              "      <td>104</td>\n",
              "    </tr>\n",
              "    <tr>\n",
              "      <th>9</th>\n",
              "      <td>105</td>\n",
              "    </tr>\n",
              "    <tr>\n",
              "      <th>10</th>\n",
              "      <td>500</td>\n",
              "    </tr>\n",
              "  </tbody>\n",
              "</table>\n",
              "</div>"
            ],
            "text/plain": [
              "    valores\n",
              "0        10\n",
              "1        20\n",
              "2        30\n",
              "3        40\n",
              "4       100\n",
              "5       101\n",
              "6       102\n",
              "7       103\n",
              "8       104\n",
              "9       105\n",
              "10      500"
            ]
          },
          "metadata": {
            "tags": []
          },
          "execution_count": 23
        }
      ]
    },
    {
      "cell_type": "code",
      "metadata": {
        "id": "SJr3jn-Zipgx",
        "colab": {
          "base_uri": "https://localhost:8080/",
          "height": 296
        },
        "outputId": "74fbc4b3-1cd9-4907-cdf6-cded1c5f8774"
      },
      "source": [
        "import seaborn as sns\n",
        "sns.boxplot(data=df, x='valores')"
      ],
      "execution_count": null,
      "outputs": [
        {
          "output_type": "execute_result",
          "data": {
            "text/plain": [
              "<matplotlib.axes._subplots.AxesSubplot at 0x7f08e00f2668>"
            ]
          },
          "metadata": {
            "tags": []
          },
          "execution_count": 24
        },
        {
          "output_type": "display_data",
          "data": {
            "image/png": "[encoded data removed]",
            "text/plain": [
              "<Figure size 432x288 with 1 Axes>"
            ]
          },
          "metadata": {
            "tags": [],
            "needs_background": "light"
          }
        }
      ]
    },
    {
      "cell_type": "code",
      "metadata": {
        "id": "ZL8FH4Lfipgz",
        "scrolled": true,
        "colab": {
          "base_uri": "https://localhost:8080/",
          "height": 359
        },
        "outputId": "23a03eb1-53c7-4997-9dba-931255753d68"
      },
      "source": [
        "from feature_engine.outliers import OutlierTrimmer\n",
        "\n",
        "outlier_trimmer = OutlierTrimmer(capping_method='iqr', \n",
        "                                 fold=3, \n",
        "                                 variables=['valores'])\n",
        "outlier_trimmer.fit(df)\n",
        "outlier_trimmer.transform(df)"
      ],
      "execution_count": null,
      "outputs": [
        {
          "output_type": "execute_result",
          "data": {
            "text/html": [
              "<div>\n",
              "<style scoped>\n",
              "    .dataframe tbody tr th:only-of-type {\n",
              "        vertical-align: middle;\n",
              "    }\n",
              "\n",
              "    .dataframe tbody tr th {\n",
              "        vertical-align: top;\n",
              "    }\n",
              "\n",
              "    .dataframe thead th {\n",
              "        text-align: right;\n",
              "    }\n",
              "</style>\n",
              "<table border=\"1\" class=\"dataframe\">\n",
              "  <thead>\n",
              "    <tr style=\"text-align: right;\">\n",
              "      <th></th>\n",
              "      <th>valores</th>\n",
              "    </tr>\n",
              "  </thead>\n",
              "  <tbody>\n",
              "    <tr>\n",
              "      <th>0</th>\n",
              "      <td>10</td>\n",
              "    </tr>\n",
              "    <tr>\n",
              "      <th>1</th>\n",
              "      <td>20</td>\n",
              "    </tr>\n",
              "    <tr>\n",
              "      <th>2</th>\n",
              "      <td>30</td>\n",
              "    </tr>\n",
              "    <tr>\n",
              "      <th>3</th>\n",
              "      <td>40</td>\n",
              "    </tr>\n",
              "    <tr>\n",
              "      <th>4</th>\n",
              "      <td>100</td>\n",
              "    </tr>\n",
              "    <tr>\n",
              "      <th>5</th>\n",
              "      <td>101</td>\n",
              "    </tr>\n",
              "    <tr>\n",
              "      <th>6</th>\n",
              "      <td>102</td>\n",
              "    </tr>\n",
              "    <tr>\n",
              "      <th>7</th>\n",
              "      <td>103</td>\n",
              "    </tr>\n",
              "    <tr>\n",
              "      <th>8</th>\n",
              "      <td>104</td>\n",
              "    </tr>\n",
              "    <tr>\n",
              "      <th>9</th>\n",
              "      <td>105</td>\n",
              "    </tr>\n",
              "  </tbody>\n",
              "</table>\n",
              "</div>"
            ],
            "text/plain": [
              "   valores\n",
              "0       10\n",
              "1       20\n",
              "2       30\n",
              "3       40\n",
              "4      100\n",
              "5      101\n",
              "6      102\n",
              "7      103\n",
              "8      104\n",
              "9      105"
            ]
          },
          "metadata": {
            "tags": []
          },
          "execution_count": 30
        }
      ]
    },
    {
      "cell_type": "code",
      "metadata": {
        "id": "nMaIIP30ipg1",
        "colab": {
          "base_uri": "https://localhost:8080/",
          "height": 296
        },
        "outputId": "eaa94690-ca59-4d2f-f3e6-78eeddcfb5db"
      },
      "source": [
        "import seaborn as sns\n",
        "sns.boxplot(data=outlier_trimmer.transform(df), x='valores')"
      ],
      "execution_count": null,
      "outputs": [
        {
          "output_type": "execute_result",
          "data": {
            "text/plain": [
              "<matplotlib.axes._subplots.AxesSubplot at 0x7f08df3dd080>"
            ]
          },
          "metadata": {
            "tags": []
          },
          "execution_count": 29
        },
        {
          "output_type": "display_data",
          "data": {
            "image/png": "[encoded data removed]",
            "text/plain": [
              "<Figure size 432x288 with 1 Axes>"
            ]
          },
          "metadata": {
            "tags": [],
            "needs_background": "light"
          }
        }
      ]
    },
    {
      "cell_type": "code",
      "metadata": {
        "id": "X3pq5B6_ixaB"
      },
      "source": [
        ""
      ],
      "execution_count": null,
      "outputs": []
    }
  ]
}
