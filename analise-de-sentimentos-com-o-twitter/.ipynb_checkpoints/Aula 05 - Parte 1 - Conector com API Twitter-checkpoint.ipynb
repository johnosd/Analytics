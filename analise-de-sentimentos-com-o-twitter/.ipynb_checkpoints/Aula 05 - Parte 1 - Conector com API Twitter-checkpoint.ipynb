{
 "cells": [
  {
   "cell_type": "markdown",
   "metadata": {
    "id": "8mnN4nr6PQDF"
   },
   "source": [
    "# Extrair dados do twitter"
   ]
  },
  {
   "cell_type": "markdown",
   "metadata": {
    "id": "sB_F3AVXPki0"
   },
   "source": [
    "## Preparando o ambiente"
   ]
  },
  {
   "cell_type": "code",
   "execution_count": null,
   "metadata": {
    "id": "n22LXYKvPcMz"
   },
   "outputs": [],
   "source": [
    "!pip install tweepy # instalando o tweepy"
   ]
  },
  {
   "cell_type": "code",
   "execution_count": 2,
   "metadata": {
    "executionInfo": {
     "elapsed": 360,
     "status": "ok",
     "timestamp": 1622904093859,
     "user": {
      "displayName": "João Paulo da Costa Nogueira",
      "photoUrl": "https://lh3.googleusercontent.com/a-/AOh14GgdeCywfbq71Vsi7etCALtPU1tVWp_RgCuzRNTO=s64",
      "userId": "02773697422153285501"
     },
     "user_tz": 180
    },
    "id": "lAjrj_-7IMUL"
   },
   "outputs": [],
   "source": [
    "# bibliotecas utilizadas\n",
    "import tweepy\n",
    "import json\n",
    "import random\n",
    "import numpy as np\n",
    "import pandas as pd"
   ]
  },
  {
   "cell_type": "markdown",
   "metadata": {
    "id": "SmVFzM4nIciA"
   },
   "source": [
    "## Autenticando no Twitter"
   ]
  },
  {
   "cell_type": "code",
   "execution_count": 3,
   "metadata": {
    "executionInfo": {
     "elapsed": 349,
     "status": "ok",
     "timestamp": 1622904096305,
     "user": {
      "displayName": "João Paulo da Costa Nogueira",
      "photoUrl": "https://lh3.googleusercontent.com/a-/AOh14GgdeCywfbq71Vsi7etCALtPU1tVWp_RgCuzRNTO=s64",
      "userId": "02773697422153285501"
     },
     "user_tz": 180
    },
    "id": "yT5joJ4dIZ9Q"
   },
   "outputs": [],
   "source": [
    "with open('/content/drive/MyDrive/Labdata/Aulas - Materiais/Análise de Sentimentos com o Twitter/aula-05.analise-de-sentimentos-com-o-twitter/Chave/auth.pass') as f:\n",
    "    auth_pass = json.load(f)"
   ]
  },
  {
   "cell_type": "code",
   "execution_count": null,
   "metadata": {},
   "outputs": [],
   "source": [
    "auth_pass"
   ]
  },
  {
   "cell_type": "code",
   "execution_count": 5,
   "metadata": {
    "executionInfo": {
     "elapsed": 210,
     "status": "ok",
     "timestamp": 1622904100601,
     "user": {
      "displayName": "João Paulo da Costa Nogueira",
      "photoUrl": "https://lh3.googleusercontent.com/a-/AOh14GgdeCywfbq71Vsi7etCALtPU1tVWp_RgCuzRNTO=s64",
      "userId": "02773697422153285501"
     },
     "user_tz": 180
    },
    "id": "ozsw9ofVJJoI"
   },
   "outputs": [],
   "source": [
    "auth = tweepy.OAuthHandler(consumer_key=auth_pass['consumer_key'], \n",
    "                           consumer_secret=auth_pass['consumer_secret'])"
   ]
  },
  {
   "cell_type": "code",
   "execution_count": 6,
   "metadata": {
    "executionInfo": {
     "elapsed": 6,
     "status": "ok",
     "timestamp": 1622904101505,
     "user": {
      "displayName": "João Paulo da Costa Nogueira",
      "photoUrl": "https://lh3.googleusercontent.com/a-/AOh14GgdeCywfbq71Vsi7etCALtPU1tVWp_RgCuzRNTO=s64",
      "userId": "02773697422153285501"
     },
     "user_tz": 180
    },
    "id": "V7FFgUSSJwy6"
   },
   "outputs": [],
   "source": [
    "auth.set_access_token(key=auth_pass['access_token'], secret=auth_pass['access_token_secret'])"
   ]
  },
  {
   "cell_type": "markdown",
   "metadata": {
    "id": "5rcpSA75J5vA"
   },
   "source": [
    "## Escolha do termo e volume de busca"
   ]
  },
  {
   "cell_type": "code",
   "execution_count": 7,
   "metadata": {
    "executionInfo": {
     "elapsed": 211,
     "status": "ok",
     "timestamp": 1622904104319,
     "user": {
      "displayName": "João Paulo da Costa Nogueira",
      "photoUrl": "https://lh3.googleusercontent.com/a-/AOh14GgdeCywfbq71Vsi7etCALtPU1tVWp_RgCuzRNTO=s64",
      "userId": "02773697422153285501"
     },
     "user_tz": 180
    },
    "id": "AGG5psjYJ4fw"
   },
   "outputs": [],
   "source": [
    "# Termo de busca\n",
    "termo = 'anita'\n",
    "\n",
    "# Quantidade mínima de mensagens capturadas\n",
    "n = 500\n",
    "\n",
    "# Quantidade mínima de mensagens para a base de treinamento\n",
    "t = 300\n",
    "\n",
    "# Filtro de língua (escolha uma na tabela ISO 639-1)\n",
    "lang = 'pt'"
   ]
  },
  {
   "cell_type": "markdown",
   "metadata": {
    "id": "FZQcrOuZKRut"
   },
   "source": [
    "## Conectando a API e extraindo os textos"
   ]
  },
  {
   "cell_type": "code",
   "execution_count": 8,
   "metadata": {
    "executionInfo": {
     "elapsed": 7954,
     "status": "ok",
     "timestamp": 1622904116737,
     "user": {
      "displayName": "João Paulo da Costa Nogueira",
      "photoUrl": "https://lh3.googleusercontent.com/a-/AOh14GgdeCywfbq71Vsi7etCALtPU1tVWp_RgCuzRNTO=s64",
      "userId": "02773697422153285501"
     },
     "user_tz": 180
    },
    "id": "pYITH18_KP9_"
   },
   "outputs": [],
   "source": [
    "# Definindo o objeto api\n",
    "api = tweepy.API(auth)\n",
    "\n",
    "# Iniciando a captura. Para mais detalhes, ver a documentação do tweepy disponibilizada acima\n",
    "msgs = []\n",
    "qtd_msgs = 1\n",
    "for msg in tweepy.Cursor(api.search, q=termo, lang=lang, tweet_mode=\"extended\").items():\n",
    "    msgs.append(msg.full_text.lower())\n",
    "    qtd_msgs += 1\n",
    "    if qtd_msgs > n:\n",
    "        break"
   ]
  },
  {
   "cell_type": "code",
   "execution_count": 9,
   "metadata": {
    "colab": {
     "base_uri": "https://localhost:8080/"
    },
    "executionInfo": {
     "elapsed": 351,
     "status": "ok",
     "timestamp": 1622904120286,
     "user": {
      "displayName": "João Paulo da Costa Nogueira",
      "photoUrl": "https://lh3.googleusercontent.com/a-/AOh14GgdeCywfbq71Vsi7etCALtPU1tVWp_RgCuzRNTO=s64",
      "userId": "02773697422153285501"
     },
     "user_tz": 180
    },
    "id": "l9o92seuK97X",
    "outputId": "b4e66861-b14c-4da5-db17-be21b8155082"
   },
   "outputs": [
    {
     "data": {
      "text/plain": [
       "['anita bumba meu boi',\n",
       " 'rt @barbitrss: amando a juliette super rica e fica bff da anita sei lá queria',\n",
       " 'rt @renzograciebjj: a nossa anita da saúde 🤣🤣🤣🤣 https://t.co/bqxjbtbfye']"
      ]
     },
     "execution_count": 9,
     "metadata": {
      "tags": []
     },
     "output_type": "execute_result"
    }
   ],
   "source": [
    "msgs[:3]"
   ]
  },
  {
   "cell_type": "code",
   "execution_count": 10,
   "metadata": {
    "executionInfo": {
     "elapsed": 210,
     "status": "ok",
     "timestamp": 1622904122788,
     "user": {
      "displayName": "João Paulo da Costa Nogueira",
      "photoUrl": "https://lh3.googleusercontent.com/a-/AOh14GgdeCywfbq71Vsi7etCALtPU1tVWp_RgCuzRNTO=s64",
      "userId": "02773697422153285501"
     },
     "user_tz": 180
    },
    "id": "lDFFDQNJM93C"
   },
   "outputs": [],
   "source": [
    "# Embaralhando as mensagens para reduzir possível viés\n",
    "random.shuffle(msgs)"
   ]
  },
  {
   "cell_type": "markdown",
   "metadata": {
    "id": "ysxPBYozNHRz"
   },
   "source": [
    "## Salvando os Dados"
   ]
  },
  {
   "cell_type": "code",
   "execution_count": 11,
   "metadata": {
    "colab": {
     "base_uri": "https://localhost:8080/",
     "height": 142
    },
    "executionInfo": {
     "elapsed": 316,
     "status": "ok",
     "timestamp": 1622904125225,
     "user": {
      "displayName": "João Paulo da Costa Nogueira",
      "photoUrl": "https://lh3.googleusercontent.com/a-/AOh14GgdeCywfbq71Vsi7etCALtPU1tVWp_RgCuzRNTO=s64",
      "userId": "02773697422153285501"
     },
     "user_tz": 180
    },
    "id": "FZqy4BI3Mo51",
    "outputId": "2510354d-2a1b-4583-d991-a55fc41b0311"
   },
   "outputs": [
    {
     "data": {
      "text/html": [
       "<div>\n",
       "<style scoped>\n",
       "    .dataframe tbody tr th:only-of-type {\n",
       "        vertical-align: middle;\n",
       "    }\n",
       "\n",
       "    .dataframe tbody tr th {\n",
       "        vertical-align: top;\n",
       "    }\n",
       "\n",
       "    .dataframe thead th {\n",
       "        text-align: right;\n",
       "    }\n",
       "</style>\n",
       "<table border=\"1\" class=\"dataframe\">\n",
       "  <thead>\n",
       "    <tr style=\"text-align: right;\">\n",
       "      <th></th>\n",
       "      <th>tweets</th>\n",
       "    </tr>\n",
       "  </thead>\n",
       "  <tbody>\n",
       "    <tr>\n",
       "      <th>0</th>\n",
       "      <td>rt @tia_do_zap: o curso dela na universidade j...</td>\n",
       "    </tr>\n",
       "    <tr>\n",
       "      <th>1</th>\n",
       "      <td>rt @bfaux3: motifs divers \"façade\" !!!! 🏠 http...</td>\n",
       "    </tr>\n",
       "    <tr>\n",
       "      <th>2</th>\n",
       "      <td>@cabewalking essa noite pega fogo juliete é an...</td>\n",
       "    </tr>\n",
       "  </tbody>\n",
       "</table>\n",
       "</div>"
      ],
      "text/plain": [
       "                                              tweets\n",
       "0  rt @tia_do_zap: o curso dela na universidade j...\n",
       "1  rt @bfaux3: motifs divers \"façade\" !!!! 🏠 http...\n",
       "2  @cabewalking essa noite pega fogo juliete é an..."
      ]
     },
     "execution_count": 11,
     "metadata": {
      "tags": []
     },
     "output_type": "execute_result"
    }
   ],
   "source": [
    "# dados de treinamento\n",
    "tweets_train = pd.DataFrame({'tweets': msgs[:t]})\n",
    "tweets_train.head(3)"
   ]
  },
  {
   "cell_type": "code",
   "execution_count": 12,
   "metadata": {
    "executionInfo": {
     "elapsed": 352,
     "status": "ok",
     "timestamp": 1622904129449,
     "user": {
      "displayName": "João Paulo da Costa Nogueira",
      "photoUrl": "https://lh3.googleusercontent.com/a-/AOh14GgdeCywfbq71Vsi7etCALtPU1tVWp_RgCuzRNTO=s64",
      "userId": "02773697422153285501"
     },
     "user_tz": 180
    },
    "id": "5vJP3SumNqtD"
   },
   "outputs": [],
   "source": [
    "tweets_train.to_csv('/content/drive/MyDrive/Labdata/Aulas - Materiais/Análise de Sentimentos com o Twitter/dataset-analise-de-sentimentos-com-o-twitter/tweets_train_anita_20210605.csv', index=False)"
   ]
  },
  {
   "cell_type": "code",
   "execution_count": 13,
   "metadata": {
    "executionInfo": {
     "elapsed": 5,
     "status": "ok",
     "timestamp": 1622904130490,
     "user": {
      "displayName": "João Paulo da Costa Nogueira",
      "photoUrl": "https://lh3.googleusercontent.com/a-/AOh14GgdeCywfbq71Vsi7etCALtPU1tVWp_RgCuzRNTO=s64",
      "userId": "02773697422153285501"
     },
     "user_tz": 180
    },
    "id": "kUJN8eBZOYfj"
   },
   "outputs": [],
   "source": [
    "# dados de teste\n",
    "tweets_test = pd.DataFrame({'tweets': msgs[t:]})\n",
    "tweets_test.to_csv('/content/drive/MyDrive/Labdata/Aulas - Materiais/Análise de Sentimentos com o Twitter/dataset-analise-de-sentimentos-com-o-twitter/tweets_test_anita_20210605.csv', index=False)"
   ]
  },
  {
   "cell_type": "code",
   "execution_count": null,
   "metadata": {
    "id": "Ehm8WaGPOeNP"
   },
   "outputs": [],
   "source": []
  }
 ],
 "metadata": {
  "colab": {
   "authorship_tag": "ABX9TyOwN3VR1+weZjnV0Q08xdqe",
   "collapsed_sections": [],
   "mount_file_id": "1sPmmjJEoVCNEUvy_G2mayZVCw1TU35Au",
   "name": "Aula 05 - Conector com API Twitter V2.ipynb",
   "provenance": []
  },
  "kernelspec": {
   "display_name": "Python 3",
   "language": "python",
   "name": "python3"
  },
  "language_info": {
   "codemirror_mode": {
    "name": "ipython",
    "version": 3
   },
   "file_extension": ".py",
   "mimetype": "text/x-python",
   "name": "python",
   "nbconvert_exporter": "python",
   "pygments_lexer": "ipython3",
   "version": "3.8.5"
  }
 },
 "nbformat": 4,
 "nbformat_minor": 1
}
